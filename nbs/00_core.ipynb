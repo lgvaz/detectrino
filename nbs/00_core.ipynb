{
 "cells": [
  {
   "cell_type": "code",
   "execution_count": null,
   "metadata": {},
   "outputs": [],
   "source": [
    "# default_exp core"
   ]
  },
  {
   "cell_type": "code",
   "execution_count": null,
   "metadata": {},
   "outputs": [],
   "source": [
    "#hide\n",
    "from nbdev.showdoc import *"
   ]
  },
  {
   "cell_type": "code",
   "execution_count": null,
   "metadata": {},
   "outputs": [],
   "source": [
    "#export\n",
    "from fastai2.vision.all import *"
   ]
  },
  {
   "cell_type": "markdown",
   "metadata": {},
   "source": [
    "# Core\n",
    "\n",
    "> Core stuff."
   ]
  },
  {
   "cell_type": "code",
   "execution_count": null,
   "metadata": {},
   "outputs": [],
   "source": [
    "#export\n",
    "def patch_classmethod(f):\n",
    "    cls = next(iter(f.__annotations__.values()))\n",
    "    return patch_to(cls, cls_method=True)(f)"
   ]
  },
  {
   "cell_type": "code",
   "execution_count": null,
   "metadata": {},
   "outputs": [],
   "source": [
    "#export\n",
    "@patch\n",
    "def numpy(self:PILImage): return np.array(self)\n",
    "@patch\n",
    "def cv2(self:PILImage): return self.numpy()[..., ::-1]"
   ]
  },
  {
   "cell_type": "markdown",
   "metadata": {},
   "source": [
    "## Storage directory"
   ]
  },
  {
   "cell_type": "code",
   "execution_count": null,
   "metadata": {},
   "outputs": [],
   "source": [
    "#export\n",
    "storage_path = Path.home()/'.detectrino'\n",
    "storage_path.mkdir(exist_ok=True)"
   ]
  },
  {
   "cell_type": "markdown",
   "metadata": {},
   "source": [
    "# Config stuff"
   ]
  },
  {
   "cell_type": "code",
   "execution_count": null,
   "metadata": {},
   "outputs": [],
   "source": [
    "#export\n",
    "class Cfg:\n",
    "    def to_cfg(self):   raise NotImplementedError\n",
    "    def __repr__(self): return self.to_cfg().__repr__()"
   ]
  },
  {
   "cell_type": "code",
   "execution_count": null,
   "metadata": {},
   "outputs": [],
   "source": [
    "#export\n",
    "def mergedicts(d1, d2, path=None):\n",
    "    for key in d2:\n",
    "        if key in d1:\n",
    "            if isinstance(d1[key], dict) and isinstance(d2[key], dict):\n",
    "                mergedicts(d1[key], d2[key])\n",
    "                continue\n",
    "        d1[key] = d2[key] if d2[key] is not None else d1.get(key)\n",
    "    return d1"
   ]
  },
  {
   "cell_type": "code",
   "execution_count": null,
   "metadata": {},
   "outputs": [],
   "source": [
    "c1 = {'a1': {'b1': 42}}\n",
    "c2 = {'a1': {'b2': 12}}\n",
    "test_eq(mergedicts(c1,c2), {'a1': {'b1': 42, 'b2': 12}})"
   ]
  },
  {
   "cell_type": "code",
   "execution_count": null,
   "metadata": {},
   "outputs": [],
   "source": [
    "c1 = {'a1': {'b1': 42}}\n",
    "c2 = {'a2': {'b1': 12}}\n",
    "test_eq(mergedicts(c1,c2), {'a1': {'b1': 42}, 'a2': {'b1': 12}})"
   ]
  },
  {
   "cell_type": "code",
   "execution_count": null,
   "metadata": {},
   "outputs": [],
   "source": [
    "c1 = {'a1': {'b1': 42}}\n",
    "c2 = {'a2': None}\n",
    "test_eq(mergedicts(c1,c2),{'a1': {'b1': 42}, 'a2': None})"
   ]
  },
  {
   "cell_type": "markdown",
   "metadata": {},
   "source": [
    "c2 overrides c1"
   ]
  },
  {
   "cell_type": "code",
   "execution_count": null,
   "metadata": {},
   "outputs": [],
   "source": [
    "c1 = {'a1': {'b1': 42}}\n",
    "c2 = {'a1': {'b1': 12}}\n",
    "test_eq(mergedicts(c1,c2), {'a1': {'b1': 12}})"
   ]
  },
  {
   "cell_type": "code",
   "execution_count": null,
   "metadata": {},
   "outputs": [],
   "source": [
    "c1 = {'a1': {'b1': 42}}\n",
    "c2 = {'a1': {'b1': None}}\n",
    "test_eq(mergedicts(c1,c2), {'a1': {'b1': 42}})"
   ]
  },
  {
   "cell_type": "markdown",
   "metadata": {},
   "source": [
    "## Export -"
   ]
  },
  {
   "cell_type": "code",
   "execution_count": null,
   "metadata": {},
   "outputs": [
    {
     "name": "stdout",
     "output_type": "stream",
     "text": [
      "Converted 00_core.ipynb.\n",
      "Converted 01_data.core.ipynb.\n",
      "Converted 02_data.config.ipynb.\n",
      "Converted 05_model.external.ipynb.\n",
      "Converted index.ipynb.\n"
     ]
    }
   ],
   "source": [
    "from nbdev.export import notebook2script\n",
    "notebook2script()"
   ]
  }
 ],
 "metadata": {
  "kernelspec": {
   "display_name": "Python 3",
   "language": "python",
   "name": "python3"
  }
 },
 "nbformat": 4,
 "nbformat_minor": 2
}
