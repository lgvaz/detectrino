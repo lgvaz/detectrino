{
 "cells": [
  {
   "cell_type": "code",
   "execution_count": null,
   "metadata": {},
   "outputs": [],
   "source": [
    "#default_exp data.core"
   ]
  },
  {
   "cell_type": "code",
   "execution_count": null,
   "metadata": {},
   "outputs": [],
   "source": [
    "#export\n",
    "from detectrino.basics import *"
   ]
  },
  {
   "cell_type": "markdown",
   "metadata": {},
   "source": [
    "# Data core\n",
    "> Core functionality for creating datasets."
   ]
  },
  {
   "cell_type": "markdown",
   "metadata": {},
   "source": [
    "## DsetLoader"
   ]
  },
  {
   "cell_type": "code",
   "execution_count": null,
   "metadata": {},
   "outputs": [],
   "source": [
    "#export\n",
    "class DsetLoader:\n",
    "    def __init__(self, source, name, create_dset):\n",
    "        self.source,self.name,self.create_set = Path(source),name,create_dset\n",
    "        \n",
    "    def __call__(self, force):\n",
    "        path = self.source/f'tmp/dset_{self.name}.pkl'\n",
    "        path.parent.mkdir(exist_ok=True)\n",
    "        if not force:\n",
    "            try:\n",
    "                with open(str(path), 'rb') as f: return pickle.load(f)\n",
    "            except FileNotFoundError: pass\n",
    "        print('Creating dset')\n",
    "        dset = self.create_dset()\n",
    "        with open(str(path), 'wb') as f: pickle.dump(dset, f)\n",
    "        return dset"
   ]
  },
  {
   "cell_type": "markdown",
   "metadata": {},
   "source": [
    "## Injects `force` in DatasetCatalog"
   ]
  },
  {
   "cell_type": "code",
   "execution_count": null,
   "metadata": {},
   "outputs": [],
   "source": [
    "#export\n",
    "DatasetCatalog.force = False"
   ]
  },
  {
   "cell_type": "code",
   "execution_count": null,
   "metadata": {},
   "outputs": [],
   "source": [
    "#export\n",
    "def _get(name):\n",
    "    try: f = DatasetCatalog._REGISTERED[name]\n",
    "    except KeyError:\n",
    "        msg = \"Dataset '{}' is not registered! Available datasets are: {}\"\n",
    "        raise KeyError(msg.format(name, \", \".join(DatasetCatalog._REGISTERED.keys())))\n",
    "    return f(DatasetCatalog.force) if isinstance(f, DsetLoader) else f()\n",
    "DatasetCatalog.get = _get"
   ]
  },
  {
   "cell_type": "markdown",
   "metadata": {},
   "source": [
    "## Export -"
   ]
  },
  {
   "cell_type": "code",
   "execution_count": null,
   "metadata": {},
   "outputs": [
    {
     "name": "stdout",
     "output_type": "stream",
     "text": [
      "Converted 00_core.ipynb.\n",
      "Converted 01_data.core.ipynb.\n",
      "Converted 02_data.config.ipynb.\n",
      "Converted 05_model.external.ipynb.\n",
      "Converted index.ipynb.\n"
     ]
    }
   ],
   "source": [
    "from nbdev.export import notebook2script\n",
    "notebook2script()"
   ]
  }
 ],
 "metadata": {
  "kernelspec": {
   "display_name": "Python 3",
   "language": "python",
   "name": "python3"
  }
 },
 "nbformat": 4,
 "nbformat_minor": 4
}
