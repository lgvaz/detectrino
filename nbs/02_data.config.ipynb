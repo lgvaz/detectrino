{
 "cells": [
  {
   "cell_type": "code",
   "execution_count": null,
   "metadata": {},
   "outputs": [],
   "source": [
    "#default_exp data.config"
   ]
  },
  {
   "cell_type": "code",
   "execution_count": null,
   "metadata": {},
   "outputs": [],
   "source": [
    "#export\n",
    "from detectrino.basics import *"
   ]
  },
  {
   "cell_type": "markdown",
   "metadata": {},
   "source": [
    "# Data config\n",
    "> Helper functions for configuring how to get data."
   ]
  },
  {
   "cell_type": "code",
   "execution_count": null,
   "metadata": {},
   "outputs": [],
   "source": [
    "#export\n",
    "class RLE:\n",
    "    def __init__(self, v, h, w): store_attr(self, 'v,h,w')\n",
    "    @classmethod\n",
    "    def from_str(cls, s, h, w): \n",
    "        v = np.array(s.split(), dtype=np.uint)\n",
    "        return cls(v, h, w)\n",
    "    def __repr__(self): return str({'shape':(self.h,self.w), 'points':self.v})"
   ]
  },
  {
   "cell_type": "code",
   "execution_count": null,
   "metadata": {},
   "outputs": [
    {
     "data": {
      "text/plain": [
       "{'shape': (10, 20), 'points': array([1, 1, 2, 3, 5], dtype=uint64)}"
      ]
     },
     "execution_count": null,
     "metadata": {},
     "output_type": "execute_result"
    }
   ],
   "source": [
    "rle = RLE.from_str('1 1 2 3 5', 10, 20)\n",
    "rle"
   ]
  },
  {
   "cell_type": "code",
   "execution_count": null,
   "metadata": {},
   "outputs": [],
   "source": [
    "#export\n",
    "@patch\n",
    "def decode(self:RLE):\n",
    "    'From https://www.kaggle.com/julienbeaulieu/imaterialist-detectron2'\n",
    "    mask = np.full(self.h*self.w, 0, dtype=np.uint8)\n",
    "    for i, start_pixel in enumerate(self.v[::2]):\n",
    "        mask[start_pixel: start_pixel+self.v[2*i+1]] = 1\n",
    "    mask = mask.reshape((self.h, self.w), order='F')\n",
    "    return mask"
   ]
  },
  {
   "cell_type": "code",
   "execution_count": null,
   "metadata": {},
   "outputs": [],
   "source": [
    "#export\n",
    "@patch\n",
    "def to_bbox(self:RLE):\n",
    "    'From https://www.kaggle.com/julienbeaulieu/imaterialist-detectron2'\n",
    "    shape = (self.h,self.w)\n",
    "    a = self.v\n",
    "    a = a.reshape((-1, 2))  # an array of (start, length) pairs\n",
    "    a[:,0] -= 1  # `start` is 1-indexed\n",
    "    y0 = a[:,0] % shape[0]\n",
    "    y1 = y0 + a[:,1]\n",
    "    if np.any(y1 > shape[0]):\n",
    "        # got `y` overrun, meaning that there are a pixels in mask on 0 and shape[0] position\n",
    "        y0 = 0\n",
    "        y1 = shape[0]\n",
    "    else:\n",
    "        y0 = np.min(y0)\n",
    "        y1 = np.max(y1)\n",
    "    x0 = a[:,0] // shape[0]\n",
    "    x1 = (a[:,0] + a[:,1]) // shape[0]\n",
    "    x0 = np.min(x0)\n",
    "    x1 = np.max(x1)\n",
    "    if x1 > shape[1]:\n",
    "        # just went out of the image dimensions\n",
    "        raise ValueError(\"invalid self or image dimensions: x1=%d > shape[1]=%d\" % (\n",
    "            x1, shape[1]\n",
    "        ))\n",
    "    return x0, y0, x1, y1"
   ]
  },
  {
   "cell_type": "markdown",
   "metadata": {},
   "source": [
    "## Data Config"
   ]
  },
  {
   "cell_type": "code",
   "execution_count": null,
   "metadata": {},
   "outputs": [],
   "source": [
    "#export\n",
    "class Record(Cfg):\n",
    "    def __init__(self, info, annons): self.info,self.annons = info,L(annons)\n",
    "    def to_cfg(self): return {**self.info.to_cfg(),\n",
    "                              'annotations':[o.to_cfg() for o in self.annons]}"
   ]
  },
  {
   "cell_type": "code",
   "execution_count": null,
   "metadata": {},
   "outputs": [],
   "source": [
    "#export\n",
    "class Info(Cfg):\n",
    "    def __init__(self, id, fn, h, w): store_attr(self, 'fn,id,h,w')\n",
    "    def to_cfg(self): return {'file_name':self.fn,'image_id':self.id,'height':self.h,'width':self.w}"
   ]
  },
  {
   "cell_type": "code",
   "execution_count": null,
   "metadata": {},
   "outputs": [],
   "source": [
    "#export\n",
    "class Annotation(Cfg):\n",
    "    def __init__(self, id, bbox, seg, iscrowd=0): store_attr(self, 'id,bbox,seg,iscrowd')\n",
    "    def to_cfg(self): return {**self.bbox.to_cfg(), **self.seg.to_cfg(),\n",
    "                              'category_id':self.id, 'iscrowd':self.iscrowd}"
   ]
  },
  {
   "cell_type": "code",
   "execution_count": null,
   "metadata": {},
   "outputs": [],
   "source": [
    "#export\n",
    "class BBox(Cfg):\n",
    "    def __init__(self, pts, mode): self.pts,self.mode = pts,mode\n",
    "    def to_cfg(self): return {'bbox':self.pts, 'bbox_mode':self.mode}"
   ]
  },
  {
   "cell_type": "code",
   "execution_count": null,
   "metadata": {},
   "outputs": [],
   "source": [
    "#export\n",
    "@patch_classmethod\n",
    "def from_xyxy_abs(cls:BBox, pts): return cls(pts, BoxMode.XYXY_ABS)"
   ]
  },
  {
   "cell_type": "code",
   "execution_count": null,
   "metadata": {},
   "outputs": [],
   "source": [
    "#export\n",
    "@patch_classmethod\n",
    "def from_rle(cls:BBox, rle): return cls(rle.to_bbox(), BoxMode.XYXY_ABS)"
   ]
  },
  {
   "cell_type": "code",
   "execution_count": null,
   "metadata": {},
   "outputs": [],
   "source": [
    "#export\n",
    "class Seg(Cfg):\n",
    "    def __init__(self, polys): self.polys = polys\n",
    "    def to_cfg(self): return {'segmentation':self.polys}"
   ]
  },
  {
   "cell_type": "code",
   "execution_count": null,
   "metadata": {},
   "outputs": [],
   "source": [
    "#export\n",
    "@patch_classmethod\n",
    "def from_polys(cls:Seg, polys): return cls(polys)"
   ]
  },
  {
   "cell_type": "code",
   "execution_count": null,
   "metadata": {},
   "outputs": [],
   "source": [
    "#export\n",
    "@patch_classmethod\n",
    "def from_rle(cls:Seg, rle):\n",
    "    mask = rle.decode()\n",
    "    conts,_ = cv2.findContours(mask, cv2.RETR_TREE, cv2.CHAIN_APPROX_SIMPLE)\n",
    "    seg = []\n",
    "    for cont in conts:\n",
    "        cont = cont.flatten().tolist()\n",
    "        if len(cont) > 4: seg.append(cont)\n",
    "    return cls(seg)"
   ]
  },
  {
   "cell_type": "markdown",
   "metadata": {},
   "source": [
    "## Export -"
   ]
  },
  {
   "cell_type": "code",
   "execution_count": null,
   "metadata": {},
   "outputs": [
    {
     "name": "stdout",
     "output_type": "stream",
     "text": [
      "Converted 00_core.ipynb.\n",
      "Converted 01_data.core.ipynb.\n",
      "Converted 02_data.config.ipynb.\n",
      "Converted 05_model.external.ipynb.\n",
      "Converted index.ipynb.\n"
     ]
    }
   ],
   "source": [
    "from nbdev.export import notebook2script\n",
    "notebook2script()"
   ]
  }
 ],
 "metadata": {
  "kernelspec": {
   "display_name": "Python 3",
   "language": "python",
   "name": "python3"
  }
 },
 "nbformat": 4,
 "nbformat_minor": 4
}
