{
 "cells": [
  {
   "cell_type": "code",
   "execution_count": 1,
   "metadata": {},
   "outputs": [],
   "source": [
    "#default_exp utils"
   ]
  },
  {
   "cell_type": "code",
   "execution_count": 2,
   "metadata": {},
   "outputs": [],
   "source": [
    "#export\n",
    "from detectrino.basics import *"
   ]
  },
  {
   "cell_type": "markdown",
   "metadata": {},
   "source": [
    "# Utils\n",
    "> To make your life easier."
   ]
  },
  {
   "cell_type": "code",
   "execution_count": 3,
   "metadata": {},
   "outputs": [],
   "source": [
    "#export\n",
    "class RLE:\n",
    "    def __init__(self, v, h, w): store_attr(self, 'v,h,w')\n",
    "    @classmethod\n",
    "    def from_str(cls, s, h, w): \n",
    "        v = np.array(s.split(), dtype=np.uint)\n",
    "        return cls(v, h, w)"
   ]
  },
  {
   "cell_type": "code",
   "execution_count": 4,
   "metadata": {},
   "outputs": [],
   "source": [
    "#export\n",
    "@patch\n",
    "def decode(self:RLE):\n",
    "    'From https://www.kaggle.com/julienbeaulieu/imaterialist-detectron2'\n",
    "    mask = np.full(self.h*self.w, 0, dtype=np.uint8)\n",
    "    for i, start_pixel in enumerate(self.v[::2]):\n",
    "        mask[start_pixel: start_pixel+self.v[2*i+1]] = 1\n",
    "    mask = mask.reshape((self.h, self.w), order='F')\n",
    "    return mask"
   ]
  },
  {
   "cell_type": "code",
   "execution_count": 5,
   "metadata": {},
   "outputs": [],
   "source": [
    "#export\n",
    "@patch\n",
    "def to_bbox(self:RLE):\n",
    "    'From https://www.kaggle.com/julienbeaulieu/imaterialist-detectron2'\n",
    "    shape = (self.h,self.w)\n",
    "    a = self.v\n",
    "    a = a.reshape((-1, 2))  # an array of (start, length) pairs\n",
    "    a[:,0] -= 1  # `start` is 1-indexed\n",
    "    y0 = a[:,0] % shape[0]\n",
    "    y1 = y0 + a[:,1]\n",
    "    if np.any(y1 > shape[0]):\n",
    "        # got `y` overrun, meaning that there are a pixels in mask on 0 and shape[0] position\n",
    "        y0 = 0\n",
    "        y1 = shape[0]\n",
    "    else:\n",
    "        y0 = np.min(y0)\n",
    "        y1 = np.max(y1)\n",
    "    x0 = a[:,0] // shape[0]\n",
    "    x1 = (a[:,0] + a[:,1]) // shape[0]\n",
    "    x0 = np.min(x0)\n",
    "    x1 = np.max(x1)\n",
    "    if x1 > shape[1]:\n",
    "        # just went out of the image dimensions\n",
    "        raise ValueError(\"invalid self or image dimensions: x1=%d > shape[1]=%d\" % (\n",
    "            x1, shape[1]\n",
    "        ))\n",
    "    return x0, y0, x1, y1"
   ]
  },
  {
   "cell_type": "markdown",
   "metadata": {},
   "source": [
    "## Export -"
   ]
  },
  {
   "cell_type": "code",
   "execution_count": 6,
   "metadata": {},
   "outputs": [
    {
     "name": "stdout",
     "output_type": "stream",
     "text": [
      "Converted 00_core.ipynb.\n",
      "Converted 02_utils.ipynb.\n",
      "Converted index.ipynb.\n"
     ]
    }
   ],
   "source": [
    "from nbdev.export import notebook2script\n",
    "notebook2script()"
   ]
  }
 ],
 "metadata": {
  "kernelspec": {
   "display_name": "Python 3",
   "language": "python",
   "name": "python3"
  },
  "language_info": {
   "codemirror_mode": {
    "name": "ipython",
    "version": 3
   },
   "file_extension": ".py",
   "mimetype": "text/x-python",
   "name": "python",
   "nbconvert_exporter": "python",
   "pygments_lexer": "ipython3",
   "version": "3.7.7"
  },
  "toc": {
   "base_numbering": 1,
   "nav_menu": {},
   "number_sections": true,
   "sideBar": true,
   "skip_h1_title": false,
   "title_cell": "Table of Contents",
   "title_sidebar": "Contents",
   "toc_cell": false,
   "toc_position": {},
   "toc_section_display": true,
   "toc_window_display": false
  }
 },
 "nbformat": 4,
 "nbformat_minor": 4
}
