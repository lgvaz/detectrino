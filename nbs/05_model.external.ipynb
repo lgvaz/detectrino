{
 "cells": [
  {
   "cell_type": "code",
   "execution_count": null,
   "metadata": {},
   "outputs": [],
   "source": [
    "#default_exp model.external"
   ]
  },
  {
   "cell_type": "code",
   "execution_count": null,
   "metadata": {},
   "outputs": [],
   "source": [
    "#export\n",
    "from fastai2.basics import *"
   ]
  },
  {
   "cell_type": "code",
   "execution_count": null,
   "metadata": {},
   "outputs": [],
   "source": [
    "#export\n",
    "from detectrino.basics import *\n",
    "import pkg_resources"
   ]
  },
  {
   "cell_type": "markdown",
   "metadata": {},
   "source": [
    "# Model external\n",
    "> Helper functions to load the models."
   ]
  },
  {
   "cell_type": "code",
   "execution_count": null,
   "metadata": {},
   "outputs": [],
   "source": [
    "#export\n",
    "class _ModelCatalog: pass\n",
    "ModelCatalog = _ModelCatalog()"
   ]
  },
  {
   "cell_type": "code",
   "execution_count": null,
   "metadata": {},
   "outputs": [],
   "source": [
    "#export\n",
    "def _populate_model_catalog():\n",
    "    cfg_file = Path(pkg_resources.resource_filename(\"detectron2.model_zoo\", \"configs\"))\n",
    "    fns = get_files(cfg_file, extensions='.yaml')\n",
    "    fns = fns.map(lambda o: str(o.relative_to(cfg_file)))\n",
    "    for fn in fns:\n",
    "        name = fn.replace('-','_').replace('/','__').replace('.yaml','')\n",
    "        setattr(ModelCatalog, name, fn)\n",
    "_populate_model_catalog()"
   ]
  },
  {
   "cell_type": "code",
   "execution_count": null,
   "metadata": {},
   "outputs": [],
   "source": [
    "test_eq(ModelCatalog.Base_RCNN_C4, 'Base-RCNN-C4.yaml')\n",
    "test_eq(ModelCatalog.COCO_Detection__fast_rcnn_R_50_FPN_1x,\n",
    "        'COCO-Detection/fast_rcnn_R_50_FPN_1x.yaml')"
   ]
  },
  {
   "cell_type": "markdown",
   "metadata": {},
   "source": [
    "## Export"
   ]
  },
  {
   "cell_type": "code",
   "execution_count": null,
   "metadata": {},
   "outputs": [
    {
     "name": "stdout",
     "output_type": "stream",
     "text": [
      "Converted 00_core.ipynb.\n",
      "Converted 01_data.core.ipynb.\n",
      "Converted 05_model.external.ipynb.\n",
      "Converted index.ipynb.\n"
     ]
    }
   ],
   "source": [
    "from nbdev.export import notebook2script\n",
    "notebook2script()"
   ]
  }
 ],
 "metadata": {
  "kernelspec": {
   "display_name": "Python 3",
   "language": "python",
   "name": "python3"
  }
 },
 "nbformat": 4,
 "nbformat_minor": 4
}
