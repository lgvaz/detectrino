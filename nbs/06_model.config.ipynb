{
 "cells": [
  {
   "cell_type": "code",
   "execution_count": null,
   "metadata": {},
   "outputs": [],
   "source": [
    "#default_exp model.config"
   ]
  },
  {
   "cell_type": "code",
   "execution_count": null,
   "metadata": {},
   "outputs": [],
   "source": [
    "#export\n",
    "from detectrino.basics import *"
   ]
  },
  {
   "cell_type": "markdown",
   "metadata": {},
   "source": [
    "# Model config\n",
    "> Model config modelling"
   ]
  },
  {
   "cell_type": "code",
   "execution_count": null,
   "metadata": {},
   "outputs": [],
   "source": [
    "#export\n",
    "class ModelCfg(Cfg):\n",
    "    def __init__(self, mfile, n_class): self.mfile,self.n_class = mfile,n_class\n",
    "    def to_cfg(self): return {'MODEL': {'ROI_HEADS': {'NUM_CLASSES': self.n_class}}}"
   ]
  },
  {
   "cell_type": "code",
   "execution_count": null,
   "metadata": {},
   "outputs": [],
   "source": [
    "#export\n",
    "class RCNNCfg(ModelCfg):\n",
    "    def __init__(self, mfile, n_class, bs_per_img=None):\n",
    "        super().__init__(mfile, n_class)\n",
    "        self.bs_per_img = bs_per_img\n",
    "        \n",
    "    def to_cfg(self):\n",
    "        cfg = {'MODEL': {'ROI_HEADS': {'BATCH_SIZE_PER_IMAGE': self.bs_per_img}}}\n",
    "        return mergedicts(super().to_cfg(), cfg)"
   ]
  },
  {
   "cell_type": "code",
   "execution_count": null,
   "metadata": {},
   "outputs": [],
   "source": [
    "mfile = ModelCatalog.COCO_Detection__fast_rcnn_R_50_FPN_1x\n",
    "mcfg = RCNNCfg(mfile, 42, 128)\n",
    "test_eq(mcfg.to_cfg(), {'MODEL': {'ROI_HEADS': {'NUM_CLASSES': 42, 'BATCH_SIZE_PER_IMAGE': 128}}})"
   ]
  },
  {
   "cell_type": "markdown",
   "metadata": {},
   "source": [
    "## Export -"
   ]
  },
  {
   "cell_type": "code",
   "execution_count": null,
   "metadata": {},
   "outputs": [
    {
     "name": "stdout",
     "output_type": "stream",
     "text": [
      "Converted 00_core.ipynb.\n",
      "Converted 01_data.core.ipynb.\n",
      "Converted 02_data.config.ipynb.\n",
      "Converted 05_model.external.ipynb.\n",
      "Converted 06_model.config.ipynb.\n",
      "Converted index.ipynb.\n"
     ]
    }
   ],
   "source": [
    "from nbdev.export import notebook2script\n",
    "notebook2script()"
   ]
  },
  {
   "cell_type": "code",
   "execution_count": null,
   "metadata": {},
   "outputs": [],
   "source": []
  }
 ],
 "metadata": {
  "kernelspec": {
   "display_name": "Python 3",
   "language": "python",
   "name": "python3"
  }
 },
 "nbformat": 4,
 "nbformat_minor": 4
}
