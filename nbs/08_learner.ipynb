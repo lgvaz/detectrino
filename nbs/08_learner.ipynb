{
 "cells": [
  {
   "cell_type": "code",
   "execution_count": null,
   "metadata": {},
   "outputs": [],
   "source": [
    "#default_exp learner"
   ]
  },
  {
   "cell_type": "code",
   "execution_count": null,
   "metadata": {},
   "outputs": [],
   "source": [
    "#export\n",
    "from detectrino.basics import *"
   ]
  },
  {
   "cell_type": "markdown",
   "metadata": {},
   "source": [
    "# Learner\n",
    "> Core Learner"
   ]
  },
  {
   "cell_type": "code",
   "execution_count": null,
   "metadata": {},
   "outputs": [],
   "source": [
    "#export\n",
    "# Dsets is only train dataset for now\n",
    "# TODO: Loading datset twice: Once for getting the len, other by detectron2 internals\n",
    "# TODO: How to correctly handle max_iter and lr_schedule?\n",
    "class DetLearner:\n",
    "    def __init__(self, dset, mcfg, pretrained=True):\n",
    "        self.dset = dset\n",
    "        self.dset_len = self._dset_len()\n",
    "        cfg = get_cfg()\n",
    "        cfg.merge_from_file(model_zoo.get_config_file(mcfg.mfile))\n",
    "        cfg = mergedicts(cfg, mcfg.to_cfg())\n",
    "        cfg.DATASETS.TRAIN,cfg.DATASETS.TEST = [dset],[]\n",
    "        if pretrained: cfg.MODEL.WEIGHTS = model_zoo.get_checkpoint_url(mcfg.mfile)\n",
    "        os.makedirs(cfg.OUTPUT_DIR, exist_ok=True)\n",
    "        self.cfg = cfg\n",
    "        \n",
    "    def fit(self, n_epoch, lr, bs=None):\n",
    "        cfg = self.cfg\n",
    "        cfg.SOLVER.BASE_LR = lr\n",
    "        cfg.SOLVER.IMS_PER_BATCH = bs\n",
    "        trainer = DefaultTrainer(cfg)\n",
    "        trainer.resume_or_load()\n",
    "        trainer.max_iter = cfg.SOLVER.MAX_ITER = trainer.start_iter + int(n_epoch*(self.dset_len/bs))\n",
    "        trainer.train()\n",
    "        cfg.MODEL.WEIGHTS = str(Path(cfg.OUTPUT_DIR)/'model_final.pth')\n",
    "        \n",
    "    def load(self, name):\n",
    "        cfg.MODEL.WEIGHTS = str(Path(cfg.OUTPUT_DIR)/name)\n",
    "        trainer.resume_or_load()\n",
    "        \n",
    "    def _dset_len(self): \n",
    "#         return len(self.trainer.data_loader.dataset.dataset._dataset._addr)\n",
    "        return len(DatasetCatalog.get(self.dset))"
   ]
  },
  {
   "cell_type": "code",
   "execution_count": null,
   "metadata": {},
   "outputs": [],
   "source": [
    "# TODO: Simple test\n",
    "# mfile = ModelCatalog.COCO_InstanceSegmentation__mask_rcnn_R_50_FPN_3x\n",
    "# learn = DetLearner('voc_2007_val', RCNNCfg(mfile, 12, 128))"
   ]
  },
  {
   "cell_type": "markdown",
   "metadata": {},
   "source": [
    "## Export -"
   ]
  },
  {
   "cell_type": "code",
   "execution_count": null,
   "metadata": {},
   "outputs": [
    {
     "name": "stdout",
     "output_type": "stream",
     "text": [
      "Converted 00_core.ipynb.\n",
      "Converted 01_data.core.ipynb.\n",
      "Converted 02_data.config.ipynb.\n",
      "Converted 05_model.external.ipynb.\n",
      "Converted 06_model.config.ipynb.\n",
      "Converted 08_learner.ipynb.\n",
      "Converted index.ipynb.\n"
     ]
    }
   ],
   "source": [
    "from nbdev.export import notebook2script\n",
    "notebook2script()"
   ]
  }
 ],
 "metadata": {
  "kernelspec": {
   "display_name": "Python 3",
   "language": "python",
   "name": "python3"
  }
 },
 "nbformat": 4,
 "nbformat_minor": 4
}
