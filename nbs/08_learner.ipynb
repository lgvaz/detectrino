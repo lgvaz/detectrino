{
 "cells": [
  {
   "cell_type": "code",
   "execution_count": null,
   "metadata": {},
   "outputs": [],
   "source": [
    "#default_exp learner"
   ]
  },
  {
   "cell_type": "code",
   "execution_count": null,
   "metadata": {},
   "outputs": [],
   "source": [
    "#export\n",
    "from detectrino.basics import *\n",
    "from fastai2.vision.all import *"
   ]
  },
  {
   "cell_type": "markdown",
   "metadata": {},
   "source": [
    "# Learner\n",
    "> Core Learner"
   ]
  },
  {
   "cell_type": "code",
   "execution_count": null,
   "metadata": {},
   "outputs": [],
   "source": [
    "#export\n",
    "# Dsets is only train dataset for now\n",
    "# TODO: Loading datset twice: Once for getting the len, other by detectron2 internals\n",
    "# TODO: How to correctly handle max_iter and lr_schedule?\n",
    "class DetLearner:\n",
    "    def __init__(self, dset, mcfg, pretrained=True, train_name='train', valid_name='valid'):\n",
    "        self.dset_train,self.dset_valid = f'{dset}_{train_name}',f'{dset}_{valid_name}'\n",
    "        self.dset_len = self._dset_len(self.dset_train)\n",
    "        cfg = get_cfg()\n",
    "        cfg.merge_from_file(model_zoo.get_config_file(mcfg.mfile))\n",
    "        self.cfg = cfg = mergedicts(cfg, mcfg.to_cfg())\n",
    "        cfg.DATASETS.TRAIN,cfg.DATASETS.TEST = [self.dset_train],[]\n",
    "        self.trainer = DefaultTrainer(cfg)\n",
    "        cfg.MODEL.WEIGHTS = model_zoo.get_checkpoint_url(mcfg.mfile)\n",
    "        if pretrained: self.trainer.resume_or_load(False)\n",
    "        os.makedirs(cfg.OUTPUT_DIR, exist_ok=True)\n",
    "        self.reload = False # Used for reloading predictor\n",
    "        self._predictor = None\n",
    "        \n",
    "    def fit(self, n_epoch, lr, bs=None):\n",
    "        self.reload = True\n",
    "        self.update_solver_cfg(n_epoch, lr, bs)\n",
    "        self.trainer = DefaultTrainer(self.cfg)\n",
    "        self.trainer.train()\n",
    "        self.cfg.MODEL.WEIGHTS = str(self.path/'model_final.pth')\n",
    "        \n",
    "    def load(self, name):\n",
    "        self.reload = True\n",
    "        self.cfg.MODEL.WEIGHTS = str(self.path/name)\n",
    "        self.trainer.resume_or_load(False)\n",
    "        \n",
    "    def _dset_len(self, dset): \n",
    "#         return len(self.trainer.data_loader.dataset.dataset._dataset._addr)\n",
    "        return len(DatasetCatalog.get(dset))\n",
    "\n",
    "    def update_solver_cfg(self, n_epoch, lr, bs=None):\n",
    "        cfgs = self.cfg.SOLVER\n",
    "        bs = bs or cfgs.IMS_PER_BATCH\n",
    "        max_iter = int(n_epoch*(self.dset_len/bs))\n",
    "        scale = (max_iter/cfgs.MAX_ITER)\n",
    "        cfgs.BASE_LR = lr\n",
    "        cfgs.MAX_ITER = max_iter\n",
    "        cfgs.IMS_PER_BATCH = bs\n",
    "        cfgs.STEPS = tuple((np.array(cfgs.STEPS)*scale).astype(int))\n",
    "        cfgs.WARMUP_ITERS = max(100, int(cfgs.WARMUP_ITERS*scale))\n",
    "        cfgs.CHECKPOINT_PERIOD = max(200, int(cfgs.CHECKPOINT_PERIOD*scale))\n",
    "\n",
    "    @property\n",
    "    def path(self): return Path(self.trainer.cfg.OUTPUT_DIR)"
   ]
  },
  {
   "cell_type": "markdown",
   "metadata": {},
   "source": [
    "# Predict"
   ]
  },
  {
   "cell_type": "code",
   "execution_count": null,
   "metadata": {},
   "outputs": [],
   "source": [
    "#export\n",
    "@patch_property\n",
    "def predictor(self:DetLearner):\n",
    "    if self._predictor is None or self.reload:\n",
    "        cfg = self.cfg.clone()\n",
    "        cfg.DATASETS.TEST = cfg.DATASETS.TRAIN\n",
    "        self._predictor = DefaultPredictor(cfg)\n",
    "        self.reload = False\n",
    "    return self._predictor"
   ]
  },
  {
   "cell_type": "code",
   "execution_count": null,
   "metadata": {},
   "outputs": [],
   "source": [
    "#export\n",
    "@patch\n",
    "def predict(self:DetLearner, fn, thresh=.5):\n",
    "    predictor = self.predictor\n",
    "    predictor.model.roi_heads.test_score_thresh = thresh\n",
    "    im = PILImage.create(fn)\n",
    "    pred = predictor(im.cv2())\n",
    "    v = Visualizer(im.numpy(), predictor.metadata, scale=.5)\n",
    "    v = v.draw_instance_predictions(pred['instances'].to('cpu'))\n",
    "    return PILImage.create(v.get_image())"
   ]
  },
  {
   "cell_type": "markdown",
   "metadata": {},
   "source": [
    "## Evaluate"
   ]
  },
  {
   "cell_type": "code",
   "execution_count": null,
   "metadata": {},
   "outputs": [],
   "source": [
    "#export\n",
    "@patch\n",
    "def evaluate(self:DetLearner, thresh=.5):\n",
    "    cfg = self.cfg.clone()\n",
    "    cfg.MODEL.ROI_HEADS.SCORE_THRESH_TEST = thresh\n",
    "    cfg.DATASETS.TEST = [self.dset_valid]\n",
    "    evaluator = COCOEvaluator(self.dset_valid, self.cfg, False, output_dir='./output/')\n",
    "    val_loader = build_detection_test_loader(cfg, self.dset_valid)\n",
    "    inference_on_dataset(self.trainer.model, val_loader, evaluator)"
   ]
  },
  {
   "cell_type": "code",
   "execution_count": null,
   "metadata": {},
   "outputs": [],
   "source": [
    "# TODO: Simple test\n",
    "# mfile = ModelCatalog.COCO_InstanceSegmentation__mask_rcnn_R_50_FPN_3x\n",
    "# learn = DetLearner('voc_2007_val', RCNNCfg(mfile, 12, 128))"
   ]
  },
  {
   "cell_type": "markdown",
   "metadata": {},
   "source": [
    "## Export -"
   ]
  },
  {
   "cell_type": "code",
   "execution_count": null,
   "metadata": {},
   "outputs": [
    {
     "name": "stdout",
     "output_type": "stream",
     "text": [
      "Converted 00_core.ipynb.\n",
      "Converted 01_data.core.ipynb.\n",
      "Converted 02_data.config.ipynb.\n",
      "Converted 05_model.external.ipynb.\n",
      "Converted 06_model.config.ipynb.\n",
      "Converted 08_learner.ipynb.\n",
      "Converted index.ipynb.\n"
     ]
    }
   ],
   "source": [
    "from nbdev.export import notebook2script\n",
    "notebook2script()"
   ]
  }
 ],
 "metadata": {
  "kernelspec": {
   "display_name": "Python 3",
   "language": "python",
   "name": "python3"
  }
 },
 "nbformat": 4,
 "nbformat_minor": 4
}
